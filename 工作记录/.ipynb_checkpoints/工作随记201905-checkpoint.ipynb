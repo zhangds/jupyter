{
 "cells": [
  {
   "cell_type": "markdown",
   "metadata": {},
   "source": [
    "# 2019年5月\n",
    "\n",
    "## 事件\n",
    "   - 要客遮蔽层（5月24日已经上测试）\n",
    "   - 营销位的展示（要求5月30日上线）\n",
    "   - <font style=\"color:red\">反欺诈的应用（要求6月5日完成）</font>\n",
    "   - <font style=\"color:red\">3.0改造接口改造</font>\n",
    "\n",
    "##  描述\n",
    "\n",
    "##  随记内容\n",
    "\n",
    "\n",
    "> linux-mint18 (ubuntu 16) 安装python3 \n",
    "\n",
    " ``` code\n",
    "直接执行命令:\n",
    "\n",
    "sudo apt-get install python3\n",
    "\n",
    "将python3设置为默python版本:\n",
    "\n",
    "sudo update-alternatives --install /usr/bin/python python /usr/bin/python2 100\n",
    "sudo update-alternatives --install /usr/bin/python python /usr/bin/python3 150\n",
    "\n",
    " 切换版本:\n",
    "\n",
    "sudo update-alternatives --config python\n",
    "\n",
    "选择版本即可\n",
    "```\n",
    "```\n",
    " 一、3.0kafka测试环境暂时先用现网的测试环境，后续3.0kafka测试环境有变动我会再通知大家。 \n",
    "     测试地址： \n",
    "     zookeeper.connect=133.0.185.21:2181,133.0.185.22:2181,133.0.185.23:2181,133.0.185.24:2181,133.0.185.25:2181 \n",
    "     metadata.broker.list=133.0.185.23:9092,133.0.185.24:9092,133.0.185.25:9092  \n",
    "```\n",
    "> layer在制定位置做弹出层\n",
    "``` js\n",
    "        mainPageRun.yingxiaoLayerId = layer.open({\n",
    "              type: 2,\n",
    "              title: false,\n",
    "              closeBtn: 0,\n",
    "              shade: 0,\n",
    "              fixed: false,\n",
    "              area: [ '240px','220px' ],\n",
    "              offset: [ _top,_left ],\n",
    "              time: -1, \n",
    "              content: [_url, 'no'], \n",
    "              end: function(){\n",
    "              }\n",
    "        });\n",
    "```\n",
    "```\n",
    "https://www.cnblogs.com/wangzhongqiu/p/6245820.html\n",
    "```\n",
    "> table样式\n",
    "``` js\n",
    "table tbody {\n",
    "    display:block;\n",
    "    height:200px;\n",
    "    overflow-y:scroll;\n",
    "    -webkit-overflow-scrolling: touch; // 为了滚动顺畅 \n",
    "} table tbody::-webkit-scrollbar {\n",
    "    display: none; // 隐藏滚动条\n",
    "} table thead, tbody tr {\n",
    "    display:table;\n",
    "    width:100%;\n",
    "    table-layout:fixed;\n",
    "} table thead {\n",
    "    width: calc( 100% - 1em )\n",
    "} table thead th{ background:#ccc;}\n",
    "```"
   ]
  }
 ],
 "metadata": {
  "kernelspec": {
   "display_name": "Python 3",
   "language": "python",
   "name": "python3"
  },
  "language_info": {
   "codemirror_mode": {
    "name": "ipython",
    "version": 3
   },
   "file_extension": ".py",
   "mimetype": "text/x-python",
   "name": "python",
   "nbconvert_exporter": "python",
   "pygments_lexer": "ipython3",
   "version": "3.6.7"
  },
  "toc": {
   "base_numbering": 1,
   "nav_menu": {},
   "number_sections": true,
   "sideBar": true,
   "skip_h1_title": false,
   "title_cell": "Table of Contents",
   "title_sidebar": "Contents",
   "toc_cell": false,
   "toc_position": {},
   "toc_section_display": true,
   "toc_window_display": true
  },
  "varInspector": {
   "cols": {
    "lenName": 16,
    "lenType": 16,
    "lenVar": 40
   },
   "kernels_config": {
    "python": {
     "delete_cmd_postfix": "",
     "delete_cmd_prefix": "del ",
     "library": "var_list.py",
     "varRefreshCmd": "print(var_dic_list())"
    },
    "r": {
     "delete_cmd_postfix": ") ",
     "delete_cmd_prefix": "rm(",
     "library": "var_list.r",
     "varRefreshCmd": "cat(var_dic_list()) "
    }
   },
   "types_to_exclude": [
    "module",
    "function",
    "builtin_function_or_method",
    "instance",
    "_Feature"
   ],
   "window_display": false
  }
 },
 "nbformat": 4,
 "nbformat_minor": 2
}
