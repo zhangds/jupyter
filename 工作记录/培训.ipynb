{
 "cells": [
  {
   "cell_type": "markdown",
   "metadata": {},
   "source": [
    "# 培训内容\n",
    "    \n",
    "---\n",
    "  ## 第一次培训内容\n",
    "  ### 时间:20180706\n",
    "  ### 主要内容：\n",
    "  - maven大致讲解\n",
    "  ``` code\n",
    "     1. Maven是什么?\n",
    "         Apache Maven是一个软件项目管理和综合工具。Maven简化和标准化项目建设过程。 处理编译， 分配， 文档， 团队协作和其他任务的无缝连接。 Maven增加可重用性并负责建立相关的任务。\n",
    "     2. Maven发展史\n",
    "         Maven的经历了Maven-> Maven2 -> Maven3的发展。\n",
    "     3. 为什么要用Maven?\n",
    "         Maven之前我们经常使用Ant来进行Java项目的构建， 然后Ant仅是一个构建工具， 它并未对项目的中的工程依赖以及项目本身进行管理， 并且Ant作为构建工具未能消除软件构建的重复性， 因为不同的项目需要编写对应的Ant任务。\n",
    "         Maven作为后来者， 继承了Ant的项目构建功能， 并且提供了依赖关系， 项目管理的功能， 因此它是一个项目管理和综合工具， 其核心的依赖管理， 项目信息管理， 中央仓库， 约定大于配置的核心功能使得Maven成为当前Java项目构建和管理工具的标准选择。\n",
    "         \n",
    "  ```\n",
    "  - maven中央仓库、本地私有库\n",
    "  ```\n",
    "  中央仓库http://mvnrepository.com/\n",
    "  更多的开发团队会搭建自己的maven库，也可以叫分库。一般使用nexus进行搭建，搭建的过程分两步：\n",
    "      1.下载nexus的程序直接运行；\n",
    "      2.进入页面端，进行中央库及本地库的配置；\n",
    "  ```\n",
    "  - 开发环境\n",
    "  ```\n",
    "      eclipse,tomcat8.5,jdk8,oracle\n",
    "      后台框架：spring+springMVC+Mybatis；\n",
    "      数据库操作推荐使用Spring的jdbcTemplate，框架内封装的JdbcTemplate对sql进行数据库分页的支持；\n",
    "      同时也提供Mybateis的ORM支持，其中分页采用PageHelper方法；         \n",
    "  ```\n",
    "  - java引用包介绍\n",
    "  ```\n",
    "      引用包的原则为按需引用，按照项目自身引用。\n",
    "      在基础框架中，要创建一个web子项目，直接引用kfWeb工程即可，剩下的引用包为所建项目需要引用的新包。\n",
    "  ```\n",
    "  - 前台框架介绍\n",
    "  ```\n",
    "      jQuery1.11（考虑到兼容ie8）+bootstrap3+layui3（也是考虑到兼容性的问题，同时也具有前台组件化的支持）\n",
    "  ```\n",
    "  - 包层次结构\n",
    "  \n",
    "  ## 第二次培训内容\n",
    "  ### 时间:20180724\n",
    "  ### 主要内容：案例讲解\n",
    "  \n",
    "  ## 第三次培训内容\n",
    "  ### 时间:\n",
    "  ### 主要内容:登录的案例\n"
   ]
  }
 ],
 "metadata": {
  "gist": {
   "data": {
    "description": "工作记录/培训.ipynb",
    "public": true
   },
   "id": ""
  },
  "kernelspec": {
   "display_name": "Python 3",
   "language": "python",
   "name": "python3"
  },
  "language_info": {
   "codemirror_mode": {
    "name": "ipython",
    "version": 3
   },
   "file_extension": ".py",
   "mimetype": "text/x-python",
   "name": "python",
   "nbconvert_exporter": "python",
   "pygments_lexer": "ipython3",
   "version": "3.6.7"
  },
  "toc": {
   "base_numbering": 1,
   "nav_menu": {},
   "number_sections": true,
   "sideBar": true,
   "skip_h1_title": false,
   "title_cell": "Table of Contents",
   "title_sidebar": "Contents",
   "toc_cell": false,
   "toc_position": {},
   "toc_section_display": true,
   "toc_window_display": false
  },
  "varInspector": {
   "cols": {
    "lenName": 16,
    "lenType": 16,
    "lenVar": 40
   },
   "kernels_config": {
    "python": {
     "delete_cmd_postfix": "",
     "delete_cmd_prefix": "del ",
     "library": "var_list.py",
     "varRefreshCmd": "print(var_dic_list())"
    },
    "r": {
     "delete_cmd_postfix": ") ",
     "delete_cmd_prefix": "rm(",
     "library": "var_list.r",
     "varRefreshCmd": "cat(var_dic_list()) "
    }
   },
   "types_to_exclude": [
    "module",
    "function",
    "builtin_function_or_method",
    "instance",
    "_Feature"
   ],
   "window_display": false
  }
 },
 "nbformat": 4,
 "nbformat_minor": 2
}
