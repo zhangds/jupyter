{
 "cells": [
  {
   "cell_type": "markdown",
   "metadata": {},
   "source": [
    "# 页面滚动效果\n",
    "\n",
    "## 采用jquery的插件SuperSlide\n",
    "> + 官方说支持范围很广，包括ie6,主要是支持ie8,因此被选择\n",
    "> + 我采用的jquery.SuperSlide.2.1.1.js（在客服系统的门户进行使用）\n",
    "\n",
    "## 具体使用\n",
    "\n",
    "``` css\n",
    "@CHARSET \"UTF-8\";\n",
    "body {\n",
    "    background: #FFF;\n",
    "    color: #000;//#666;\n",
    "    font: 12px/150% Arial,Verdana, \"microsoft yahei\";\n",
    "}\n",
    "```\n",
    "-------------------\n",
    "``` html\n",
    "<body style=\"font-size:20px;\">\n",
    "\t\t<div class=\"tui-new-apply clearfix\" >\n",
    "\t\t\t<ul class=\"tui-apply-user\" >\n",
    "\t\t\t\t<li><a href=\"#\" onclick=\"alert(1);\" >中国打破了世界软件巨头规则</a></li>\n",
    "\t\t\t\t<li><a href=\"#\" onclick=\"alert(2);\">会说中文就能说英语！</a></li>\n",
    "\t\t\t\t<li><a href=\"#\" onclick=\"alert(3);\">现在是全按钮开启情况</a></li>\n",
    "\t\t\t</ul>\n",
    "\t\t</div>\n",
    "</body>\n",
    "```\n",
    "-------------------\n",
    "``` text/javascript\n",
    "$(\".tui-new-apply\").slide({\n",
    "\t\tmainCell : \".tui-apply-user\",\n",
    "\t\tautoPlay : true,\n",
    "\t\teffect : \"topMarquee\",\n",
    "\t\tvis : 1,\n",
    "\t\tinterTime : 200\n",
    "\t});\n",
    "```\n",
    "--------------------------------------\n",
    "## 说明\n",
    "> + 控制其页面元素的高度，不能做到显示高度的调整;\n",
    "> + 控制body元素的字体大小可以调整其显示的高度，有些反人类啊！\n",
    "\n",
    "\n"
   ]
  }
 ],
 "metadata": {
  "kernelspec": {
   "display_name": "Python 3",
   "language": "python",
   "name": "python3"
  },
  "language_info": {
   "codemirror_mode": {
    "name": "ipython",
    "version": 3
   },
   "file_extension": ".py",
   "mimetype": "text/x-python",
   "name": "python",
   "nbconvert_exporter": "python",
   "pygments_lexer": "ipython3",
   "version": "3.6.7"
  },
  "toc": {
   "base_numbering": 1,
   "nav_menu": {},
   "number_sections": true,
   "sideBar": true,
   "skip_h1_title": false,
   "title_cell": "Table of Contents",
   "title_sidebar": "Contents",
   "toc_cell": false,
   "toc_position": {},
   "toc_section_display": true,
   "toc_window_display": false
  },
  "varInspector": {
   "cols": {
    "lenName": 16,
    "lenType": 16,
    "lenVar": 40
   },
   "kernels_config": {
    "python": {
     "delete_cmd_postfix": "",
     "delete_cmd_prefix": "del ",
     "library": "var_list.py",
     "varRefreshCmd": "print(var_dic_list())"
    },
    "r": {
     "delete_cmd_postfix": ") ",
     "delete_cmd_prefix": "rm(",
     "library": "var_list.r",
     "varRefreshCmd": "cat(var_dic_list()) "
    }
   },
   "types_to_exclude": [
    "module",
    "function",
    "builtin_function_or_method",
    "instance",
    "_Feature"
   ],
   "window_display": false
  }
 },
 "nbformat": 4,
 "nbformat_minor": 2
}
