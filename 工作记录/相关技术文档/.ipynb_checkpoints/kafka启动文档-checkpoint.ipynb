{
 "cells": [
  {
   "cell_type": "markdown",
   "metadata": {},
   "source": [
    "# kafka相关启动文档\n",
    "\n",
    "## 系统参数设置\n",
    "<font color=red >注：如果不需要将环境变量设置到系统参数中，无需此步骤</font>\n",
    "``` shell\n",
    "vi /etc/profile\n",
    "# 在最前面添加\n",
    "export KAFKA_HOME=/usr/local/kafka/kafka-2.12\n",
    "export PATH=$PATH:${KAFKA_HOME}/bin\n",
    "source /etc/profile\n",
    "```\n",
    "## 启动自带的zookeeper\n",
    "``` shell\n",
    "nohup ./zookeeper-server-start.sh ../config/zookeeper.properties > /dev/null &\n",
    "```\n",
    "## 启动kafka服务\n",
    "``` shell\n",
    "nohup ./kafka-server-start.sh ../config/server.properties > /dev/null &\n",
    "```\n",
    "## 创建topic\n",
    "```\n",
    "./kafka-topics.sh --create --zookeeper localhost:2181 --replication-factor 1 --partitions 1 --topic test\n",
    "\n",
    "#服务器使用的\n",
    "./kafka-topics.sh --create --zookeeper 133.0.123.63:2181,133.0.123.64:2181,133.0.123.62:2181 --replication-factor 3 --partitions 2 --topic kfcenter\n",
    "#查看刚才的topic\n",
    "./kafka-topics.sh --list --zookeeper 133.0.123.62:2181\n",
    "\n",
    "```\n",
    "## 创建生产者\n",
    "``` shell\n",
    "./kafka-console-producer.sh --broker-list 133.0.123.62:9092 --topic kfcenter\n",
    "```\n",
    "## 创建消费者\n",
    "``` shell\n",
    "./kafka-console-consumer.sh --bootstrap-server 133.0.123.62:9092 --topic kfcenter --from-beginning\n",
    "```\n",
    "### 电信客服\n",
    "```\n",
    "./kafka-console-consumer.sh --bootstrap-server 133.0.123.62:9092,133.0.123.63:9092,133.0.123.64:9092 --topic 10000sq --from-beginning\n",
    "```"
   ]
  }
 ],
 "metadata": {
  "kernelspec": {
   "display_name": "Python 3",
   "language": "python",
   "name": "python3"
  },
  "language_info": {
   "codemirror_mode": {
    "name": "ipython",
    "version": 3
   },
   "file_extension": ".py",
   "mimetype": "text/x-python",
   "name": "python",
   "nbconvert_exporter": "python",
   "pygments_lexer": "ipython3",
   "version": "3.6.7"
  },
  "toc": {
   "base_numbering": 1,
   "nav_menu": {},
   "number_sections": true,
   "sideBar": true,
   "skip_h1_title": false,
   "title_cell": "Table of Contents",
   "title_sidebar": "Contents",
   "toc_cell": false,
   "toc_position": {},
   "toc_section_display": true,
   "toc_window_display": false
  },
  "varInspector": {
   "cols": {
    "lenName": 16,
    "lenType": 16,
    "lenVar": 40
   },
   "kernels_config": {
    "python": {
     "delete_cmd_postfix": "",
     "delete_cmd_prefix": "del ",
     "library": "var_list.py",
     "varRefreshCmd": "print(var_dic_list())"
    },
    "r": {
     "delete_cmd_postfix": ") ",
     "delete_cmd_prefix": "rm(",
     "library": "var_list.r",
     "varRefreshCmd": "cat(var_dic_list()) "
    }
   },
   "types_to_exclude": [
    "module",
    "function",
    "builtin_function_or_method",
    "instance",
    "_Feature"
   ],
   "window_display": false
  }
 },
 "nbformat": 4,
 "nbformat_minor": 2
}
