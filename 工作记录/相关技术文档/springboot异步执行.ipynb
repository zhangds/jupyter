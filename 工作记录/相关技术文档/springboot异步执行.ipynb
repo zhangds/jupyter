{
 "cells": [
  {
   "cell_type": "markdown",
   "metadata": {},
   "source": [
    "# springboot异步执行\n",
    "\n",
    "## 异步执行无法注入数据源。后续需要继续研究一下\n",
    "\n",
    "``` java\n",
    "package com.ctcc.kf.crm.gainData.configure;\n",
    "\n",
    "import java.util.concurrent.Executor;\n",
    "\n",
    "import org.springframework.aop.interceptor.AsyncUncaughtExceptionHandler;\n",
    "import org.springframework.context.annotation.Bean;\n",
    "import org.springframework.context.annotation.Configuration;\n",
    "import org.springframework.scheduling.annotation.AsyncConfigurer;\n",
    "import org.springframework.scheduling.annotation.EnableAsync;\n",
    "import org.springframework.scheduling.concurrent.ThreadPoolTaskExecutor;\n",
    "\n",
    "@Configuration\n",
    "@EnableAsync\n",
    "public class AsyncTaskConfig implements AsyncConfigurer{\n",
    "\t@Bean(\"taskExecutor\")\n",
    "\tpublic Executor getAsyncExecutor() {\n",
    "\t\tThreadPoolTaskExecutor threadPool = new ThreadPoolTaskExecutor();\n",
    "        //设置核心线程数\n",
    "        threadPool.setCorePoolSize(10);\n",
    "        //设置最大线程数\n",
    "        threadPool.setMaxPoolSize(200);\n",
    "        //线程池所使用的缓冲队列\n",
    "        threadPool.setQueueCapacity(30);\n",
    "        //等待任务在关机时完成--表明等待所有线程执行完\n",
    "        threadPool.setWaitForTasksToCompleteOnShutdown(true);\n",
    "        // 等待时间 （默认为0，此时立即停止），并没等待xx秒后强制停止\n",
    "        threadPool.setAwaitTerminationSeconds(1000);//60\n",
    "        //  线程名称前缀\n",
    "        threadPool.setThreadNamePrefix(\"kf-Async-\");\n",
    "        // 初始化线程\n",
    "        threadPool.initialize();\n",
    "        return threadPool;\n",
    "\t}\n",
    "\n",
    "\tpublic AsyncUncaughtExceptionHandler getAsyncUncaughtExceptionHandler() {\n",
    "\t\treturn null;\n",
    "\t}\n",
    "\n",
    "}\n",
    "\n",
    "//@Async(\"taskExecutor\")\n",
    "```"
   ]
  }
 ],
 "metadata": {
  "kernelspec": {
   "display_name": "Python 3",
   "language": "python",
   "name": "python3"
  },
  "language_info": {
   "codemirror_mode": {
    "name": "ipython",
    "version": 3
   },
   "file_extension": ".py",
   "mimetype": "text/x-python",
   "name": "python",
   "nbconvert_exporter": "python",
   "pygments_lexer": "ipython3",
   "version": "3.6.7"
  },
  "toc": {
   "base_numbering": 1,
   "nav_menu": {},
   "number_sections": true,
   "sideBar": true,
   "skip_h1_title": false,
   "title_cell": "Table of Contents",
   "title_sidebar": "Contents",
   "toc_cell": false,
   "toc_position": {},
   "toc_section_display": true,
   "toc_window_display": false
  },
  "varInspector": {
   "cols": {
    "lenName": 16,
    "lenType": 16,
    "lenVar": 40
   },
   "kernels_config": {
    "python": {
     "delete_cmd_postfix": "",
     "delete_cmd_prefix": "del ",
     "library": "var_list.py",
     "varRefreshCmd": "print(var_dic_list())"
    },
    "r": {
     "delete_cmd_postfix": ") ",
     "delete_cmd_prefix": "rm(",
     "library": "var_list.r",
     "varRefreshCmd": "cat(var_dic_list()) "
    }
   },
   "types_to_exclude": [
    "module",
    "function",
    "builtin_function_or_method",
    "instance",
    "_Feature"
   ],
   "window_display": false
  }
 },
 "nbformat": 4,
 "nbformat_minor": 2
}
