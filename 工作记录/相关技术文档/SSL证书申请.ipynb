{
 "cells": [
  {
   "cell_type": "markdown",
   "metadata": {},
   "source": [
    "# SSL证书申请\n",
    "\n",
    "## Let's Encrypt永久免费SSL证书\n",
    "\n",
    "+ 首先安装letsencrypt\n",
    "``` shell\n",
    " #获取letsencrypt\n",
    "git clone https://github.com/letsencrypt/letsencrypt\n",
    " #进入letsencrypt目录\n",
    "cd letsencrypt\n",
    " #生成证书\n",
    " ./letsencrypt-auto certonly --standalone --email 12894994@qq.com -d www.slashgo.cn -d zhangds.slashgo.cn\n",
    "```\n",
    "+ Let's Encrypt免费SSL证书获取与应用\n",
    "``` remake\n",
    "在完成Let's Encrypt证书的生成之后，我们会在\"/etc/letsencrypt/live/zhangds.slashgo.cn/\"域名目录下有4个文件就是生成的密钥证书文件。\n",
    "cert.pem  - Apache服务器端证书\n",
    "chain.pem  - Apache根证书和中继证书\n",
    "fullchain.pem  - Nginx所需要ssl_certificate文件\n",
    "privkey.pem - 安全证书KEY文件\n",
    "如果我们使用的Nginx环境，那就需要用到fullchain.pem和privkey.pem两个证书文件，在部署Nginx的时候需要用到。在Nginx环境中，只要将对应的ssl_certificate和ssl_certificate_key路径设置成我们生成的2个文件就可以。\n",
    "```\n",
    "+ 解决Let's Encrypt免费SSL证书有效期问题\n",
    "> Let's Encrypt证书是有效期90天的，需要我们自己手工更新续期才可以。\n",
    "``` shell\n",
    " ./letsencrypt-auto certonly --renew-by-default --email 12894994@qq.com -d www.slashgo.cn -d zhangds.slashgo.cn\n",
    "```\n"
   ]
  }
 ],
 "metadata": {
  "kernelspec": {
   "display_name": "Python 3",
   "language": "python",
   "name": "python3"
  },
  "language_info": {
   "codemirror_mode": {
    "name": "ipython",
    "version": 3
   },
   "file_extension": ".py",
   "mimetype": "text/x-python",
   "name": "python",
   "nbconvert_exporter": "python",
   "pygments_lexer": "ipython3",
   "version": "3.6.7"
  },
  "toc": {
   "base_numbering": 1,
   "nav_menu": {},
   "number_sections": true,
   "sideBar": true,
   "skip_h1_title": false,
   "title_cell": "Table of Contents",
   "title_sidebar": "Contents",
   "toc_cell": false,
   "toc_position": {},
   "toc_section_display": true,
   "toc_window_display": false
  },
  "varInspector": {
   "cols": {
    "lenName": 16,
    "lenType": 16,
    "lenVar": 40
   },
   "kernels_config": {
    "python": {
     "delete_cmd_postfix": "",
     "delete_cmd_prefix": "del ",
     "library": "var_list.py",
     "varRefreshCmd": "print(var_dic_list())"
    },
    "r": {
     "delete_cmd_postfix": ") ",
     "delete_cmd_prefix": "rm(",
     "library": "var_list.r",
     "varRefreshCmd": "cat(var_dic_list()) "
    }
   },
   "types_to_exclude": [
    "module",
    "function",
    "builtin_function_or_method",
    "instance",
    "_Feature"
   ],
   "window_display": false
  }
 },
 "nbformat": 4,
 "nbformat_minor": 2
}
