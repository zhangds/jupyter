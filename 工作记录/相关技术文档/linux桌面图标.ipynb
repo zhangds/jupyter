{
 "cells": [
  {
   "cell_type": "markdown",
   "metadata": {},
   "source": [
    "# Ubuntu 中创建 PyCharm 桌面快捷方式\n",
    "\n",
    "## 1.创建 pycharm.desktop 文件\n",
    ">  首先切换目录到桌面：\n",
    ">  用 vim 创建 pycharm.desktop ：\n",
    ">   ``` shell\n",
    "    cd ~/桌面 \n",
    "    vim pycharm.desktop\n",
    "    内容如下（注意一定要写绝对路径）：\n",
    "[Desktop Entry]\n",
    "Name = PyCharm\n",
    "Type = Application\n",
    "Exec = /home/jpch89/program/pycharm201821/bin/pycharm.sh\n",
    "Icon = /home/jpch89/program/pycharm201821/bin/pycharm.png\n",
    "Terminal = False\n",
    "    ```\n",
    ">保存退出\n",
    "\n",
    "## 2.添加可执行权限并信任\n",
    "\n",
    "> 右键点击桌面上的 pycharm.desktop ，点击属性。<p>\n",
    "> 点击权限选项卡。<p>\n",
    "> 勾选允许作为程序执行文件，关闭窗口。<P>\n",
    "    "
   ]
  }
 ],
 "metadata": {
  "kernelspec": {
   "display_name": "Python 3",
   "language": "python",
   "name": "python3"
  },
  "language_info": {
   "codemirror_mode": {
    "name": "ipython",
    "version": 3
   },
   "file_extension": ".py",
   "mimetype": "text/x-python",
   "name": "python",
   "nbconvert_exporter": "python",
   "pygments_lexer": "ipython3",
   "version": "3.6.7"
  },
  "toc": {
   "base_numbering": 1,
   "nav_menu": {},
   "number_sections": true,
   "sideBar": true,
   "skip_h1_title": false,
   "title_cell": "Table of Contents",
   "title_sidebar": "Contents",
   "toc_cell": false,
   "toc_position": {},
   "toc_section_display": true,
   "toc_window_display": false
  },
  "varInspector": {
   "cols": {
    "lenName": 16,
    "lenType": 16,
    "lenVar": 40
   },
   "kernels_config": {
    "python": {
     "delete_cmd_postfix": "",
     "delete_cmd_prefix": "del ",
     "library": "var_list.py",
     "varRefreshCmd": "print(var_dic_list())"
    },
    "r": {
     "delete_cmd_postfix": ") ",
     "delete_cmd_prefix": "rm(",
     "library": "var_list.r",
     "varRefreshCmd": "cat(var_dic_list()) "
    }
   },
   "types_to_exclude": [
    "module",
    "function",
    "builtin_function_or_method",
    "instance",
    "_Feature"
   ],
   "window_display": false
  }
 },
 "nbformat": 4,
 "nbformat_minor": 2
}
